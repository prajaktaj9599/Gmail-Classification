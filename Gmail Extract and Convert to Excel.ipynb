{
 "cells": [
  {
   "attachments": {
    "gmaillogonew.png": {
     "image/png": "[encoded data removed]"
    }
   },
   "cell_type": "markdown",
   "metadata": {},
   "source": [
    "![gmaillogonew.png](attachment:gmaillogonew.png)"
   ]
  },
  {
   "cell_type": "markdown",
   "metadata": {},
   "source": [
    "# <div style=\"text-align: center\">Extract Emails from Gmail and convert to Excel</div>"
   ]
  },
  {
   "cell_type": "markdown",
   "metadata": {},
   "source": [
    "This code -\n",
    "1. Extracts emails from Gmail from 'Inbox' and 'Spam' folders in .txt format.<br> \n",
    "2. Then converts each folder to Excel files.<br>\n",
    "3. Adds 'spam' and 'non-spam' Labels and 1/0 Label_Numbers.<br>\n",
    "4. Merges both Excel files into one and shuffles them"
   ]
  },
  {
   "cell_type": "markdown",
   "metadata": {},
   "source": [
    "**Important Note : enable 'Less Secure App' access for the code to work**<br>\n",
    "https://myaccount.google.com/lesssecureapps"
   ]
  },
  {
   "cell_type": "markdown",
   "metadata": {},
   "source": [
    "**Import Libraries**<br>\n",
    "(install the required packages)"
   ]
  },
  {
   "cell_type": "code",
   "execution_count": 8,
   "metadata": {},
   "outputs": [],
   "source": [
    "import os, re\n",
    "import pandas as pd\n",
    "import codecs\n",
    "from getpass import getpass\n",
    "import imaplib, email\n",
    "from bs4 import BeautifulSoup\n",
    "from nltk import word_tokenize"
   ]
  },
  {
   "cell_type": "markdown",
   "metadata": {},
   "source": [
    "**Class emails to download emails**"
   ]
  },
  {
   "cell_type": "code",
   "execution_count": 12,
   "metadata": {},
   "outputs": [],
   "source": [
    "class emails:\n",
    "   \n",
    "\n",
    "    def __init__(self,username,password):\n",
    "    \n",
    "        self.mail = imaplib.IMAP4_SSL('imap.gmail.com')\n",
    "        self.mail.login(username, password)\n",
    "        self.select_folder('Inbox',True)\n",
    "\n",
    "    def select_folder(self,folder, read_only):\n",
    "        self.mail.select(folder,readonly=read_only)\n",
    "\n",
    "    def get_all_emails(self):\n",
    "        result,data=self.mail.uid('search',None,'All')\n",
    "        return result,data[0].decode('utf-8').split()\n",
    "\n",
    "    def raw_email(self,uid):\n",
    "        result, data = self.mail.uid('fetch', uid, '(RFC822)')\n",
    "        return result,data[0][1]\n",
    "\n",
    "\n",
    "    def __clean__(self,text):\n",
    "        text = text.replace('  ', ' ')\n",
    "        text = text.replace('</n', '<')\n",
    "        text = text.replace('{*}', '')\n",
    "        #replacing patterns\n",
    "        text = re.sub(r'<[^>]+>', '', text)\n",
    "        text = re.sub(r'\\n+', '\\n', text)\n",
    "        output=''\n",
    "        words=[word for word in word_tokenize(text) if len(word)<=15 and re.match('[A-Za-z0-9,._]+',word)]\n",
    "        for word in words:\n",
    "            if output=='':\n",
    "                output=word\n",
    "            else:\n",
    "                output = output + ' ' + word\n",
    "        return output\n",
    "\n",
    "    def parse_email(self,uid):\n",
    "        dict={}\n",
    "        result, raw_email = self.raw_email(uid)\n",
    "        raw_email = raw_email.decode('utf-8','ignore')\n",
    "        parsed = email.message_from_string(raw_email)\n",
    "        dict['To']=email.utils.parseaddr(parsed['To'])[-1]\n",
    "        dict['From']=email.utils.parseaddr(parsed['From'])[-1]\n",
    "        dict['Subject']=parsed['Subject']\n",
    "\n",
    "        body=''\n",
    "        for part in parsed.walk():\n",
    "            if part.get_content_type()=='text/html':\n",
    "                html=str(part.get_payload())\n",
    "                soup = BeautifulSoup(html,'html5lib')\n",
    "                try:\n",
    "                    text=soup.find('body').text.strip()\n",
    "                except Exception:\n",
    "                    continue\n",
    "\n",
    "                text=self.__clean__(text)\n",
    "                body=body + text\n",
    "\n",
    "        body=self.__clean__(body)\n",
    "        dict['Body']=body\n",
    "        return dict\n",
    "    \n",
    "    #Directory\n",
    "    def directory(label):\n",
    "        cdir =os.getcwd()\n",
    "        #Setting target folder\n",
    "        if label.find('/')>0:\n",
    "            folder=label[label.find('/')+1:].lower()\n",
    "        else:\n",
    "            folder=label.lower()\n",
    "        \n",
    "        #Create folder, if it does not exist\n",
    "        if not os.path.exists(cdir + '\\Downloads\\\\' + folder):\n",
    "            os.mkdir(cdir + '\\Downloads\\\\' + folder)\n",
    "        return folder\n",
    "    \n",
    "    def download_emails(label):\n",
    "        #Getting all the emails\n",
    "        mail.select_folder(label,True)\n",
    "        result, data = mail.get_all_emails()\n",
    "    \n",
    "        #Exit, if no emails returned\n",
    "        if not result=='OK':\n",
    "            exit(1)\n",
    "\n",
    "        #Saving the Data\n",
    "        cdir =os.getcwd()\n",
    "        print('Downloading ' + emails.directory(label) + ' emails...')\n",
    "        for uid in data:\n",
    "            dict = mail.parse_email(uid)\n",
    "            subject = dict['Subject']\n",
    "            subject=re.sub('[^a-zA-Z ]','',subject)\n",
    "            if len(subject) > 50:\n",
    "                subject = subject[:50]\n",
    "            file = cdir + '\\Downloads\\\\' + emails.directory(label) + '\\\\' + subject + '.txt'\n",
    "            with open(file, 'w', encoding='utf-8') as f:\n",
    "                body = subject + '\\n' + str(dict['Body'])\n",
    "                f.write(body)\n",
    "    \n",
    "        #Status Display\n",
    "        print('Downloaded ' + emails.directory(label) + ' emails at '+ cdir + '\\Downloads\\\\' + emails.directory(label) + '.')\n",
    "        print('------------------------------')\n",
    "\n",
    "        \n",
    "    #Creates List of Emails\n",
    "    def create_email_list(folder_path):\n",
    "        email_list = []\n",
    "        folder = os.listdir(folder_path)\n",
    "        for txt in folder:\n",
    "            file_name = fr'{folder_path}/{txt}'\n",
    "        \n",
    "            with codecs.open(file_name, 'r', encoding='utf-8',errors='ignore') as f:\n",
    "                email = f.read()\n",
    "                email_list.append(email)\n",
    "        return email_list"
   ]
  },
  {
   "cell_type": "markdown",
   "metadata": {},
   "source": [
    "**Input Email ID and Password**"
   ]
  },
  {
   "cell_type": "code",
   "execution_count": 10,
   "metadata": {},
   "outputs": [
    {
     "name": "stdout",
     "output_type": "stream",
     "text": [
      "Enter Gmail ID :········\n",
      "Enter Password :········\n"
     ]
    }
   ],
   "source": [
    "#main\n",
    "if __name__=='__main__':\n",
    "    email_id = getpass('Enter Gmail ID :')\n",
    "    email_password = getpass('Enter Password :')\n",
    "    mail=emails(email_id,email_password)"
   ]
  },
  {
   "cell_type": "markdown",
   "metadata": {},
   "source": [
    "**Download Spam and Inbox mails from Gmail**"
   ]
  },
  {
   "cell_type": "code",
   "execution_count": 13,
   "metadata": {},
   "outputs": [
    {
     "name": "stdout",
     "output_type": "stream",
     "text": [
      "Downloading spam emails...\n",
      "Downloaded spam emails at C:\\Users\\mgman\\Downloads\\spam.\n",
      "------------------------------\n",
      "Downloading inbox emails...\n",
      "Downloaded inbox emails at C:\\Users\\mgman\\Downloads\\inbox.\n",
      "------------------------------\n"
     ]
    }
   ],
   "source": [
    "#This might take a while\n",
    "emails.download_emails('[Gmail]/Spam')\n",
    "emails.download_emails('INBOX')"
   ]
  },
  {
   "cell_type": "markdown",
   "metadata": {},
   "source": [
    "**Convert spam emails folder to Excel file**"
   ]
  },
  {
   "cell_type": "code",
   "execution_count": 43,
   "metadata": {},
   "outputs": [
    {
     "name": "stdout",
     "output_type": "stream",
     "text": [
      "Converted spam emails to Excel file.\n",
      "------------------------------\n"
     ]
    }
   ],
   "source": [
    "cdir = os.getcwd()\n",
    "spam_list = emails.create_email_list(cdir + '\\Downloads\\\\' + emails.directory('[Gmail]/Spam'))\n",
    "spam_df = pd.DataFrame(spam_list)\n",
    "spam_df.to_excel(cdir + '\\Downloads\\spam.xlsx')\n",
    "\n",
    "print('Converted spam emails to Excel file.')\n",
    "print('------------------------------')\n"
   ]
  },
  {
   "cell_type": "markdown",
   "metadata": {},
   "source": [
    "**Convert non spam emails folder to Excel file**"
   ]
  },
  {
   "cell_type": "code",
   "execution_count": 44,
   "metadata": {},
   "outputs": [
    {
     "name": "stdout",
     "output_type": "stream",
     "text": [
      "Converted inbox emails to Excel file.\n",
      "------------------------------\n"
     ]
    }
   ],
   "source": [
    "non_spam_list = emails.create_email_list(cdir + '\\Downloads\\\\' + emails.directory('INBOX'))\n",
    "non_spam_df = pd.DataFrame(non_spam_list)\n",
    "non_spam_df.to_excel(cdir + '\\Downloads\\inbox.xlsx')\n",
    "    \n",
    "print('Converted inbox emails to Excel file.')\n",
    "print('------------------------------')"
   ]
  },
  {
   "cell_type": "code",
   "execution_count": 45,
   "metadata": {},
   "outputs": [],
   "source": [
    "#read both files\n",
    "df1 = pd.read_excel(cdir + '\\Downloads\\inbox.xlsx')\n",
    "df2 = pd.read_excel(cdir + '\\Downloads\\spam.xlsx')"
   ]
  },
  {
   "cell_type": "code",
   "execution_count": 46,
   "metadata": {},
   "outputs": [
    {
     "data": {
      "text/plain": [
       "Index(['Unnamed: 0', 0], dtype='object')"
      ]
     },
     "execution_count": 46,
     "metadata": {},
     "output_type": "execute_result"
    }
   ],
   "source": [
    "df1.columns"
   ]
  },
  {
   "cell_type": "code",
   "execution_count": 47,
   "metadata": {},
   "outputs": [
    {
     "data": {
      "text/plain": [
       "Index(['Unnamed: 0', 0], dtype='object')"
      ]
     },
     "execution_count": 47,
     "metadata": {},
     "output_type": "execute_result"
    }
   ],
   "source": [
    "df2.columns"
   ]
  },
  {
   "cell_type": "markdown",
   "metadata": {},
   "source": [
    "**Add 'non_spam' Label and 0 Label_Number to non spam file**"
   ]
  },
  {
   "cell_type": "code",
   "execution_count": 48,
   "metadata": {},
   "outputs": [
    {
     "data": {
      "text/html": [
       "<div>\n",
       "<style scoped>\n",
       "    .dataframe tbody tr th:only-of-type {\n",
       "        vertical-align: middle;\n",
       "    }\n",
       "\n",
       "    .dataframe tbody tr th {\n",
       "        vertical-align: top;\n",
       "    }\n",
       "\n",
       "    .dataframe thead th {\n",
       "        text-align: right;\n",
       "    }\n",
       "</style>\n",
       "<table border=\"1\" class=\"dataframe\">\n",
       "  <thead>\n",
       "    <tr style=\"text-align: right;\">\n",
       "      <th></th>\n",
       "      <th>ID</th>\n",
       "      <th>Label</th>\n",
       "      <th>Text</th>\n",
       "      <th>Label_Number</th>\n",
       "    </tr>\n",
       "  </thead>\n",
       "  <tbody>\n",
       "    <tr>\n",
       "      <th>0</th>\n",
       "      <td>0</td>\n",
       "      <td>non_spam</td>\n",
       "      <td>BHK Apartments in North Goa  Rs  Lakh Onwar...</td>\n",
       "      <td>0</td>\n",
       "    </tr>\n",
       "    <tr>\n",
       "      <th>1</th>\n",
       "      <td>1</td>\n",
       "      <td>non_spam</td>\n",
       "      <td>BHK Apt starts From  Lakh With Free Registr...</td>\n",
       "      <td>0</td>\n",
       "    </tr>\n",
       "    <tr>\n",
       "      <th>2</th>\n",
       "      <td>2</td>\n",
       "      <td>non_spam</td>\n",
       "      <td>BHK Ready to Move in Apartments in Raj Naga...</td>\n",
       "      <td>0</td>\n",
       "    </tr>\n",
       "    <tr>\n",
       "      <th>3</th>\n",
       "      <td>3</td>\n",
       "      <td>non_spam</td>\n",
       "      <td>BHK Apt Starts From Rs  Lakhs With Free Regi...</td>\n",
       "      <td>0</td>\n",
       "    </tr>\n",
       "    <tr>\n",
       "      <th>4</th>\n",
       "      <td>4</td>\n",
       "      <td>non_spam</td>\n",
       "      <td>BHK Luxury Ready to Move Apartments Rs  Lakh ...</td>\n",
       "      <td>0</td>\n",
       "    </tr>\n",
       "  </tbody>\n",
       "</table>\n",
       "</div>"
      ],
      "text/plain": [
       "   ID     Label                                               Text  \\\n",
       "0   0  non_spam     BHK Apartments in North Goa  Rs  Lakh Onwar...   \n",
       "1   1  non_spam     BHK Apt starts From  Lakh With Free Registr...   \n",
       "2   2  non_spam     BHK Ready to Move in Apartments in Raj Naga...   \n",
       "3   3  non_spam    BHK Apt Starts From Rs  Lakhs With Free Regi...   \n",
       "4   4  non_spam   BHK Luxury Ready to Move Apartments Rs  Lakh ...   \n",
       "\n",
       "   Label_Number  \n",
       "0             0  \n",
       "1             0  \n",
       "2             0  \n",
       "3             0  \n",
       "4             0  "
      ]
     },
     "execution_count": 48,
     "metadata": {},
     "output_type": "execute_result"
    }
   ],
   "source": [
    "df1.insert(1,\"Label\", \"non_spam\")\n",
    "df1.insert(3,\"Label_Number\", 0)\n",
    "df1.rename(columns = {'Unnamed: 0': 'ID',0: 'Text'}, inplace = True)\n",
    "df1.head()"
   ]
  },
  {
   "cell_type": "markdown",
   "metadata": {},
   "source": [
    "**Add 'spam' Label and 1 Label_Number to spam file**"
   ]
  },
  {
   "cell_type": "code",
   "execution_count": 49,
   "metadata": {},
   "outputs": [
    {
     "data": {
      "text/html": [
       "<div>\n",
       "<style scoped>\n",
       "    .dataframe tbody tr th:only-of-type {\n",
       "        vertical-align: middle;\n",
       "    }\n",
       "\n",
       "    .dataframe tbody tr th {\n",
       "        vertical-align: top;\n",
       "    }\n",
       "\n",
       "    .dataframe thead th {\n",
       "        text-align: right;\n",
       "    }\n",
       "</style>\n",
       "<table border=\"1\" class=\"dataframe\">\n",
       "  <thead>\n",
       "    <tr style=\"text-align: right;\">\n",
       "      <th></th>\n",
       "      <th>ID</th>\n",
       "      <th>Label</th>\n",
       "      <th>Text</th>\n",
       "      <th>Label_Number</th>\n",
       "    </tr>\n",
       "  </thead>\n",
       "  <tbody>\n",
       "    <tr>\n",
       "      <th>0</th>\n",
       "      <td>0</td>\n",
       "      <td>spam</td>\n",
       "      <td>Activity Sheet_x000D_\\nDear Rupal , Hello , I ...</td>\n",
       "      <td>1</td>\n",
       "    </tr>\n",
       "    <tr>\n",
       "      <th>1</th>\n",
       "      <td>1</td>\n",
       "      <td>spam</td>\n",
       "      <td>Advertise your property till it gets rented ou...</td>\n",
       "      <td>1</td>\n",
       "    </tr>\n",
       "    <tr>\n",
       "      <th>2</th>\n",
       "      <td>2</td>\n",
       "      <td>spam</td>\n",
       "      <td>Application Fee Waiver  Apply to St Lawrence C...</td>\n",
       "      <td>1</td>\n",
       "    </tr>\n",
       "    <tr>\n",
       "      <th>3</th>\n",
       "      <td>3</td>\n",
       "      <td>spam</td>\n",
       "      <td>Apply for Nipissing University Canada For Sep ...</td>\n",
       "      <td>1</td>\n",
       "    </tr>\n",
       "    <tr>\n",
       "      <th>4</th>\n",
       "      <td>4</td>\n",
       "      <td>spam</td>\n",
       "      <td>Apply for Northern College at Pures  Toronto f...</td>\n",
       "      <td>1</td>\n",
       "    </tr>\n",
       "  </tbody>\n",
       "</table>\n",
       "</div>"
      ],
      "text/plain": [
       "   ID Label                                               Text  Label_Number\n",
       "0   0  spam  Activity Sheet_x000D_\\nDear Rupal , Hello , I ...             1\n",
       "1   1  spam  Advertise your property till it gets rented ou...             1\n",
       "2   2  spam  Application Fee Waiver  Apply to St Lawrence C...             1\n",
       "3   3  spam  Apply for Nipissing University Canada For Sep ...             1\n",
       "4   4  spam  Apply for Northern College at Pures  Toronto f...             1"
      ]
     },
     "execution_count": 49,
     "metadata": {},
     "output_type": "execute_result"
    }
   ],
   "source": [
    "df2.insert(1,\"Label\", \"spam\")\n",
    "df2.insert(3,\"Label_Number\", 1)\n",
    "df2.rename(columns = {'Unnamed: 0': 'ID',0: 'Text'}, inplace = True)\n",
    "df2.head()"
   ]
  },
  {
   "cell_type": "markdown",
   "metadata": {},
   "source": [
    "**Merge spam and non spam Excel files in one and shuffle**"
   ]
  },
  {
   "cell_type": "code",
   "execution_count": 68,
   "metadata": {},
   "outputs": [
    {
     "data": {
      "text/html": [
       "<div>\n",
       "<style scoped>\n",
       "    .dataframe tbody tr th:only-of-type {\n",
       "        vertical-align: middle;\n",
       "    }\n",
       "\n",
       "    .dataframe tbody tr th {\n",
       "        vertical-align: top;\n",
       "    }\n",
       "\n",
       "    .dataframe thead th {\n",
       "        text-align: right;\n",
       "    }\n",
       "</style>\n",
       "<table border=\"1\" class=\"dataframe\">\n",
       "  <thead>\n",
       "    <tr style=\"text-align: right;\">\n",
       "      <th></th>\n",
       "      <th>Label</th>\n",
       "      <th>Text</th>\n",
       "      <th>Label_Number</th>\n",
       "    </tr>\n",
       "  </thead>\n",
       "  <tbody>\n",
       "    <tr>\n",
       "      <th>0</th>\n",
       "      <td>spam</td>\n",
       "      <td>Why United Kingdom is best study destination_x...</td>\n",
       "      <td>1</td>\n",
       "    </tr>\n",
       "    <tr>\n",
       "      <th>1</th>\n",
       "      <td>non_spam</td>\n",
       "      <td>Homeowners are looking for a tenant like you z...</td>\n",
       "      <td>0</td>\n",
       "    </tr>\n",
       "    <tr>\n",
       "      <th>2</th>\n",
       "      <td>non_spam</td>\n",
       "      <td>Shop Assigned  Mi Home VM JanakpuriHigh Street...</td>\n",
       "      <td>0</td>\n",
       "    </tr>\n",
       "    <tr>\n",
       "      <th>3</th>\n",
       "      <td>non_spam</td>\n",
       "      <td>Profile picture pending approval_x000D_\\nHi Ru...</td>\n",
       "      <td>0</td>\n",
       "    </tr>\n",
       "    <tr>\n",
       "      <th>4</th>\n",
       "      <td>non_spam</td>\n",
       "      <td>Mahimagoyal JEE Main New Exam Dates Out_x000D_\\n</td>\n",
       "      <td>0</td>\n",
       "    </tr>\n",
       "    <tr>\n",
       "      <th>...</th>\n",
       "      <td>...</td>\n",
       "      <td>...</td>\n",
       "      <td>...</td>\n",
       "    </tr>\n",
       "    <tr>\n",
       "      <th>975</th>\n",
       "      <td>non_spam</td>\n",
       "      <td>UTFBKSoKSPIOCkuOCkpuCkuOCljeCkryE_x000D_\\nmahi...</td>\n",
       "      <td>0</td>\n",
       "    </tr>\n",
       "    <tr>\n",
       "      <th>976</th>\n",
       "      <td>non_spam</td>\n",
       "      <td>UTFBUnMgMTUwICgKSKSwKWNKSKWHIOCkruClhCkgiDgpKg...</td>\n",
       "      <td>0</td>\n",
       "    </tr>\n",
       "    <tr>\n",
       "      <th>977</th>\n",
       "      <td>non_spam</td>\n",
       "      <td>Mahima Your request is now registered with us_...</td>\n",
       "      <td>0</td>\n",
       "    </tr>\n",
       "    <tr>\n",
       "      <th>978</th>\n",
       "      <td>non_spam</td>\n",
       "      <td>UTFBTWFoaWhZYWwsIEhpZhlcQgUGFjaFnZSAIElOUiAxNS...</td>\n",
       "      <td>0</td>\n",
       "    </tr>\n",
       "    <tr>\n",
       "      <th>979</th>\n",
       "      <td>non_spam</td>\n",
       "      <td>utfBKSwKWBKSaKSKSVKSIOCkpCgKSuKWHKSCIOCkhuCkqg...</td>\n",
       "      <td>0</td>\n",
       "    </tr>\n",
       "  </tbody>\n",
       "</table>\n",
       "<p>980 rows × 3 columns</p>\n",
       "</div>"
      ],
      "text/plain": [
       "        Label                                               Text  Label_Number\n",
       "0        spam  Why United Kingdom is best study destination_x...             1\n",
       "1    non_spam  Homeowners are looking for a tenant like you z...             0\n",
       "2    non_spam  Shop Assigned  Mi Home VM JanakpuriHigh Street...             0\n",
       "3    non_spam  Profile picture pending approval_x000D_\\nHi Ru...             0\n",
       "4    non_spam   Mahimagoyal JEE Main New Exam Dates Out_x000D_\\n             0\n",
       "..        ...                                                ...           ...\n",
       "975  non_spam  UTFBKSoKSPIOCkuOCkpuCkuOCljeCkryE_x000D_\\nmahi...             0\n",
       "976  non_spam  UTFBUnMgMTUwICgKSKSwKWNKSKWHIOCkruClhCkgiDgpKg...             0\n",
       "977  non_spam  Mahima Your request is now registered with us_...             0\n",
       "978  non_spam  UTFBTWFoaWhZYWwsIEhpZhlcQgUGFjaFnZSAIElOUiAxNS...             0\n",
       "979  non_spam  utfBKSwKWBKSaKSKSVKSIOCkpCgKSuKWHKSCIOCkhuCkqg...             0\n",
       "\n",
       "[980 rows x 3 columns]"
      ]
     },
     "execution_count": 68,
     "metadata": {},
     "output_type": "execute_result"
    }
   ],
   "source": [
    "df_all = pd.concat([df1, df2])\n",
    "df_all.reset_index(inplace=True, drop=True) \n",
    "df_all.pop('ID')\n",
    "df_final = df_all.sample(frac = 1)\n",
    "df_final.reset_index(inplace=True, drop=True) \n",
    "df_final"
   ]
  },
  {
   "cell_type": "markdown",
   "metadata": {},
   "source": [
    "**Enter the name of Excel file and Download final dataset**"
   ]
  },
  {
   "cell_type": "code",
   "execution_count": 70,
   "metadata": {},
   "outputs": [
    {
     "name": "stdout",
     "output_type": "stream",
     "text": [
      "Enter name of Excel File: All_Emails\n",
      "Downloaded all emails dataset in C:\\Users\\mgman\\Downloads\\All_Emails.xlsx\n",
      "------------------------------\n"
     ]
    }
   ],
   "source": [
    "excel_file_name = input(\"Enter name of Excel File: \")\n",
    "df_final.to_excel(cdir + '\\Downloads\\\\'+excel_file_name + '.xlsx')\n",
    "print('Downloaded all emails dataset in '+ cdir +  '\\Downloads\\\\'+excel_file_name + '.xlsx')\n",
    "print('------------------------------')"
   ]
  }
 ],
 "metadata": {
  "kernelspec": {
   "display_name": "Python 3",
   "language": "python",
   "name": "python3"
  },
  "language_info": {
   "codemirror_mode": {
    "name": "ipython",
    "version": 3
   },
   "file_extension": ".py",
   "mimetype": "text/x-python",
   "name": "python",
   "nbconvert_exporter": "python",
   "pygments_lexer": "ipython3",
   "version": "3.8.5"
  }
 },
 "nbformat": 4,
 "nbformat_minor": 4
}
